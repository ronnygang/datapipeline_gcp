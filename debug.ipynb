{
 "cells": [
  {
   "cell_type": "code",
   "execution_count": 21,
   "metadata": {},
   "outputs": [
    {
     "name": "stdout",
     "output_type": "stream",
     "text": [
      "load_trx_txt\n"
     ]
    }
   ],
   "source": [
    "string = \"results/trx_20230706_ad17.txt\"\n",
    "parts = string.split('_')[0]  # Dividir el string en partes utilizando el guion bajo como separador\n",
    "table_name = parts.split('/')[-1]  # Dividir el elemento seleccionado utilizando el punto como separador y seleccionar el primer elemento\n",
    "object_name = string.split('.')[-1]\n",
    "DAG_ID = f'load_{table_name}_{object_name}'\n",
    "print(DAG_ID)  # Imprimir \"trx\""
   ]
  },
  {
   "cell_type": "code",
   "execution_count": 25,
   "metadata": {},
   "outputs": [
    {
     "name": "stdout",
     "output_type": "stream",
     "text": [
      "load_trx_txt\n"
     ]
    }
   ],
   "source": [
    "file_name = \"results/trx_20230706_ad17.txt\"\n",
    "parts = file_name.split('_')[0]\n",
    "table_name = parts.split('/')[-1]\n",
    "object_name = file_name.split('.')[-1]\n",
    "INSTANCE = 'https://6f5e4512a8324ac19b5b05192553bccf-dot-us-central1.composer.googleusercontent.com'\n",
    "DAG_ID2 = f'load_{table_name}_{object_name}'\n",
    "print(DAG_ID2)"
   ]
  },
  {
   "cell_type": "code",
   "execution_count": 12,
   "metadata": {},
   "outputs": [],
   "source": [
    "import requests"
   ]
  },
  {
   "cell_type": "code",
   "execution_count": 15,
   "metadata": {},
   "outputs": [
    {
     "name": "stdout",
     "output_type": "stream",
     "text": [
      "DAG invoked successfully\n"
     ]
    }
   ],
   "source": [
    "INSTANCE = 'https://6f5e4512a8324ac19b5b05192553bccf-dot-us-central1.composer.googleusercontent.com'\n",
    "DAG_ID = 'airflow_monitoring'\n",
    "url = 'https://6f5e4512a8324ac19b5b05192553bccf-dot-us-central1.composer.googleusercontent.com/api/v1/dags/airflow_monitoring/dagRuns'\n",
    "headers = {\n",
    "    'accept': 'application/json',\n",
    "    'Content-Type': 'application/json'\n",
    "}\n",
    "\n",
    "data = {\n",
    "    'conf': {}\n",
    "}\n",
    "\n",
    "response = requests.post(url, headers=headers, json=data)\n",
    "\n",
    "if response.status_code == 200:\n",
    "    print('DAG invoked successfully')\n",
    "else:\n",
    "    print('Failed to invoke DAG')"
   ]
  },
  {
   "cell_type": "code",
   "execution_count": 1,
   "metadata": {},
   "outputs": [],
   "source": [
    "from faker import Faker"
   ]
  },
  {
   "cell_type": "code",
   "execution_count": 3,
   "metadata": {},
   "outputs": [
    {
     "name": "stdout",
     "output_type": "stream",
     "text": [
      "2023-07-07 08:21:23\n"
     ]
    }
   ],
   "source": [
    "fake = Faker()\n",
    "date_time = fake.date_time_between(start_date='-3h')\n",
    "print(date_time)"
   ]
  },
  {
   "cell_type": "code",
   "execution_count": 4,
   "metadata": {},
   "outputs": [
    {
     "data": {
      "text/plain": [
       "datetime.datetime"
      ]
     },
     "execution_count": 4,
     "metadata": {},
     "output_type": "execute_result"
    }
   ],
   "source": [
    "type(date_time)"
   ]
  }
 ],
 "metadata": {
  "kernelspec": {
   "display_name": "base",
   "language": "python",
   "name": "python3"
  },
  "language_info": {
   "codemirror_mode": {
    "name": "ipython",
    "version": 3
   },
   "file_extension": ".py",
   "mimetype": "text/x-python",
   "name": "python",
   "nbconvert_exporter": "python",
   "pygments_lexer": "ipython3",
   "version": "3.9.7"
  },
  "orig_nbformat": 4
 },
 "nbformat": 4,
 "nbformat_minor": 2
}
