{
 "cells": [
  {
   "cell_type": "code",
   "execution_count": 21,
   "metadata": {},
   "outputs": [
    {
     "name": "stdout",
     "output_type": "stream",
     "text": [
      "load_trx_txt\n"
     ]
    }
   ],
   "source": [
    "string = \"results/trx_20230706_ad17.txt\"\n",
    "parts = string.split('_')[0]  # Dividir el string en partes utilizando el guion bajo como separador\n",
    "table_name = parts.split('/')[-1]  # Dividir el elemento seleccionado utilizando el punto como separador y seleccionar el primer elemento\n",
    "object_name = string.split('.')[-1]\n",
    "DAG_ID = f'load_{table_name}_{object_name}'\n",
    "print(DAG_ID)  # Imprimir \"trx\""
   ]
  },
  {
   "cell_type": "code",
   "execution_count": 25,
   "metadata": {},
   "outputs": [
    {
     "name": "stdout",
     "output_type": "stream",
     "text": [
      "load_trx_txt\n"
     ]
    }
   ],
   "source": [
    "file_name = \"results/trx_20230706_ad17.txt\"\n",
    "parts = file_name.split('_')[0]\n",
    "table_name = parts.split('/')[-1]\n",
    "object_name = file_name.split('.')[-1]\n",
    "INSTANCE = 'https://6f5e4512a8324ac19b5b05192553bccf-dot-us-central1.composer.googleusercontent.com'\n",
    "DAG_ID2 = f'load_{table_name}_{object_name}'\n",
    "print(DAG_ID2)"
   ]
  },
  {
   "cell_type": "code",
   "execution_count": 12,
   "metadata": {},
   "outputs": [],
   "source": [
    "import requests"
   ]
  },
  {
   "cell_type": "code",
   "execution_count": 15,
   "metadata": {},
   "outputs": [
    {
     "name": "stdout",
     "output_type": "stream",
     "text": [
      "DAG invoked successfully\n"
     ]
    }
   ],
   "source": [
    "INSTANCE = 'https://6f5e4512a8324ac19b5b05192553bccf-dot-us-central1.composer.googleusercontent.com'\n",
    "DAG_ID = 'airflow_monitoring'\n",
    "url = 'https://6f5e4512a8324ac19b5b05192553bccf-dot-us-central1.composer.googleusercontent.com/api/v1/dags/airflow_monitoring/dagRuns'\n",
    "headers = {\n",
    "    'accept': 'application/json',\n",
    "    'Content-Type': 'application/json'\n",
    "}\n",
    "\n",
    "data = {\n",
    "    'conf': {}\n",
    "}\n",
    "\n",
    "response = requests.post(url, headers=headers, json=data)\n",
    "\n",
    "if response.status_code == 200:\n",
    "    print('DAG invoked successfully')\n",
    "else:\n",
    "    print('Failed to invoke DAG')"
   ]
  },
  {
   "cell_type": "code",
   "execution_count": 11,
   "metadata": {},
   "outputs": [
    {
     "name": "stdout",
     "output_type": "stream",
     "text": [
      "load_campaigns_csv\n"
     ]
    }
   ],
   "source": [
    "string = \"results/campaigns_20230706_ad17.csv\"\n",
    "parts = string.split('_')[0]  # Dividir el string en partes utilizando el guion bajo como separador\n",
    "table_name = parts.split('/')[-1]  # Dividir el elemento seleccionado utilizando el punto como separador y seleccionar el primer elemento\n",
    "object_name = string.split('.')[-1]\n",
    "DAG_ID = f'load_{table_name}_{object_name}'\n",
    "print(DAG_ID)  # Imprimir \"trx\""
   ]
  },
  {
   "attachments": {},
   "cell_type": "markdown",
   "metadata": {},
   "source": [
    "import base64\n",
    "import requests\n",
    "\n",
    "def consume_message(event, context):\n",
    "    if 'data' in event:\n",
    "        message = event['data']\n",
    "        if isinstance(message, bytes):\n",
    "            message = message.decode('utf-8')\n",
    "        print('Mensaje recibido:', message)\n",
    "        \n",
    "        # Decodificar el mensaje en base64\n",
    "        decoded_message = base64.b64decode(message).decode('utf-8')\n",
    "        \n",
    "        # Extraer el nombre del archivo del mensaje decodificado\n",
    "        file_name = decoded_message\n",
    "        \n",
    "        print(\"message: \", file_name)\n",
    "        #results/trx_20230706_ad17.txt\n",
    "        file_extension = file_name.split('.')[-1]\n",
    "        object_name = file_name.split('_')[0]  # Dividir el string en partes utilizando el guion bajo como separador\n",
    "        table_name = object_name.split('/')[-1]\n",
    "        INSTANCE = 'https://6f5e4512a8324ac19b5b05192553bccf-dot-us-central1.composer.googleusercontent.com'\n",
    "        if file_extension.upper() == 'TXT':\n",
    "            if table_name.upper() == 'TRANSACTIONS':                \n",
    "                DAG_ID = f'load_{table_name}_{object_name}'\n",
    "                url = f'{INSTANCE}/api/v1/dags/{DAG_ID}/dagRuns'\n",
    "                headers = {\n",
    "                    'accept': 'application/json',\n",
    "                    'Content-Type': 'application/json'\n",
    "                }\n",
    "\n",
    "                data = {\n",
    "                    'conf': {}\n",
    "                }\n",
    "\n",
    "                response = requests.post(url, headers=headers, json=data)\n",
    "\n",
    "                if response.status_code == 200:\n",
    "                    print('DAG invoked successfully')\n",
    "                else:\n",
    "                    print('Failed to invoke DAG')\n",
    "            \n",
    "            if table_name.upper() == 'CAMPAIGNS':                \n",
    "                DAG_ID = f'load_{table_name}_{object_name}'\n",
    "                url = f'{INSTANCE}/api/v1/dags/{DAG_ID}/dagRuns'\n",
    "                headers = {\n",
    "                    'accept': 'application/json',\n",
    "                    'Content-Type': 'application/json'\n",
    "                }\n",
    "\n",
    "                data = {\n",
    "                    'conf': {}\n",
    "                }\n",
    "\n",
    "                response = requests.post(url, headers=headers, json=data)\n",
    "\n",
    "                if response.status_code == 200:\n",
    "                    print('DAG invoked successfully')\n",
    "                else:\n",
    "                    print('Failed to invoke DAG')\n",
    "\n",
    "\n",
    "        if file_extension.upper() == 'CSV':\n",
    "            if table_name.upper() == 'TRANSACTIONS':                \n",
    "                DAG_ID = f'load_{table_name}_{object_name}'\n",
    "                url = f'{INSTANCE}/api/v1/dags/{DAG_ID}/dagRuns'\n",
    "                headers = {\n",
    "                    'accept': 'application/json',\n",
    "                    'Content-Type': 'application/json'\n",
    "                }\n",
    "\n",
    "                data = {\n",
    "                    'conf': {}\n",
    "                }\n",
    "\n",
    "                response = requests.post(url, headers=headers, json=data)\n",
    "\n",
    "                if response.status_code == 200:\n",
    "                    print('DAG invoked successfully')\n",
    "                else:\n",
    "                    print('Failed to invoke DAG')\n",
    "\n",
    "            if table_name.upper() == 'CAMPAIGNS':                \n",
    "                DAG_ID = f'load_{table_name}_{object_name}'\n",
    "                url = f'{INSTANCE}/api/v1/dags/{DAG_ID}/dagRuns'\n",
    "                headers = {\n",
    "                    'accept': 'application/json',\n",
    "                    'Content-Type': 'application/json'\n",
    "                }\n",
    "\n",
    "                data = {\n",
    "                    'conf': {}\n",
    "                }\n",
    "\n",
    "                response = requests.post(url, headers=headers, json=data)\n",
    "\n",
    "                if response.status_code == 200:\n",
    "                    print('DAG invoked successfully')\n",
    "                else:\n",
    "                    print('Failed to invoke DAG')\n"
   ]
  }
 ],
 "metadata": {
  "kernelspec": {
   "display_name": "base",
   "language": "python",
   "name": "python3"
  },
  "language_info": {
   "codemirror_mode": {
    "name": "ipython",
    "version": 3
   },
   "file_extension": ".py",
   "mimetype": "text/x-python",
   "name": "python",
   "nbconvert_exporter": "python",
   "pygments_lexer": "ipython3",
   "version": "3.9.7"
  },
  "orig_nbformat": 4
 },
 "nbformat": 4,
 "nbformat_minor": 2
}
